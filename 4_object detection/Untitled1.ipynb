{
 "cells": [
  {
   "cell_type": "code",
   "execution_count": 2,
   "id": "76f077df",
   "metadata": {},
   "outputs": [],
   "source": [
    "import pandas as pd"
   ]
  },
  {
   "cell_type": "code",
   "execution_count": 3,
   "id": "96e2e80d",
   "metadata": {},
   "outputs": [],
   "source": [
    "layak = pd.read_csv('layak.csv')"
   ]
  },
  {
   "cell_type": "code",
   "execution_count": 4,
   "id": "66aa7263",
   "metadata": {},
   "outputs": [],
   "source": [
    "tidak_layak = pd.read_csv('tidak_layak.csv')"
   ]
  },
  {
   "cell_type": "code",
   "execution_count": 15,
   "id": "ab1ad50d",
   "metadata": {},
   "outputs": [],
   "source": [
    "layak = layak[layak['Propinsi, Kab/Kota'] == 'JAWA TIMUR, KOTA SURABAYA']"
   ]
  },
  {
   "cell_type": "code",
   "execution_count": 16,
   "id": "54fd7b3e",
   "metadata": {},
   "outputs": [],
   "source": [
    "tidak_layak = tidak_layak[tidak_layak['Propinsi, Kab/Kota'] == 'JAWA TIMUR, KOTA SURABAYA']"
   ]
  },
  {
   "cell_type": "code",
   "execution_count": 17,
   "id": "edafd7bb",
   "metadata": {},
   "outputs": [
    {
     "name": "stderr",
     "output_type": "stream",
     "text": [
      "C:\\Users\\Agus Zainal Arifin\\AppData\\Local\\Temp\\ipykernel_6456\\2141501187.py:2: FutureWarning: The frame.append method is deprecated and will be removed from pandas in a future version. Use pandas.concat instead.\n",
      "  output = output.append(tidak_layak[['Propinsi, Kab/Kota', 'Kecamatan, Desa/Kel', 'Alamat', 'Koordinat']], ignore_index=True)\n"
     ]
    },
    {
     "data": {
      "text/html": [
       "<div>\n",
       "<style scoped>\n",
       "    .dataframe tbody tr th:only-of-type {\n",
       "        vertical-align: middle;\n",
       "    }\n",
       "\n",
       "    .dataframe tbody tr th {\n",
       "        vertical-align: top;\n",
       "    }\n",
       "\n",
       "    .dataframe thead th {\n",
       "        text-align: right;\n",
       "    }\n",
       "</style>\n",
       "<table border=\"1\" class=\"dataframe\">\n",
       "  <thead>\n",
       "    <tr style=\"text-align: right;\">\n",
       "      <th></th>\n",
       "      <th>Propinsi, Kab/Kota</th>\n",
       "      <th>Kecamatan, Desa/Kel</th>\n",
       "      <th>Alamat</th>\n",
       "      <th>Koordinat</th>\n",
       "    </tr>\n",
       "  </thead>\n",
       "  <tbody>\n",
       "    <tr>\n",
       "      <th>0</th>\n",
       "      <td>JAWA TIMUR, KOTA SURABAYA</td>\n",
       "      <td>KREMBANGAN, KEMAYORAN</td>\n",
       "      <td>GRESIK PPI LANGGAR 16</td>\n",
       "      <td>-7.233941, 112.7268541</td>\n",
       "    </tr>\n",
       "    <tr>\n",
       "      <th>1</th>\n",
       "      <td>JAWA TIMUR, KOTA SURABAYA</td>\n",
       "      <td>SEMAMPIR, PEGIRIAN</td>\n",
       "      <td>WONOSARI 3/24</td>\n",
       "      <td>-7.2718232, 112.7618757</td>\n",
       "    </tr>\n",
       "    <tr>\n",
       "      <th>2</th>\n",
       "      <td>JAWA TIMUR, KOTA SURABAYA</td>\n",
       "      <td>GUBENG, MOJO</td>\n",
       "      <td>MOJOKLANGGRU LOR 80</td>\n",
       "      <td>-7.26833773, 112.76890883</td>\n",
       "    </tr>\n",
       "    <tr>\n",
       "      <th>3</th>\n",
       "      <td>JAWA TIMUR, KOTA SURABAYA</td>\n",
       "      <td>MULYOREJO, MANYAR SABRANGAN</td>\n",
       "      <td>MANYARSABRANGAN 4/25</td>\n",
       "      <td>-7.28757576, 112.76360124</td>\n",
       "    </tr>\n",
       "    <tr>\n",
       "      <th>4</th>\n",
       "      <td>JAWA TIMUR, KOTA SURABAYA</td>\n",
       "      <td>TAMBAKSARI, PLOSO</td>\n",
       "      <td>PLOSO 9/9</td>\n",
       "      <td>-7.2521372, 112.7660014</td>\n",
       "    </tr>\n",
       "    <tr>\n",
       "      <th>...</th>\n",
       "      <td>...</td>\n",
       "      <td>...</td>\n",
       "      <td>...</td>\n",
       "      <td>...</td>\n",
       "    </tr>\n",
       "    <tr>\n",
       "      <th>293</th>\n",
       "      <td>JAWA TIMUR, KOTA SURABAYA</td>\n",
       "      <td>SEMAMPIR, UJUNG</td>\n",
       "      <td>HANGTUAH 7/33</td>\n",
       "      <td>-7.2232981, 112.7430831</td>\n",
       "    </tr>\n",
       "    <tr>\n",
       "      <th>294</th>\n",
       "      <td>JAWA TIMUR, KOTA SURABAYA</td>\n",
       "      <td>TEGALSARI, WONOREJO</td>\n",
       "      <td>TEMPEL SUKOREJO 5/10-A</td>\n",
       "      <td>-7.273985, 112.728838333333</td>\n",
       "    </tr>\n",
       "    <tr>\n",
       "      <th>295</th>\n",
       "      <td>JAWA TIMUR, KOTA SURABAYA</td>\n",
       "      <td>JAMBANGAN, KARAH</td>\n",
       "      <td>BIBIS KARAH III/8</td>\n",
       "      <td>-7.3133579, 112.7124192</td>\n",
       "    </tr>\n",
       "    <tr>\n",
       "      <th>296</th>\n",
       "      <td>JAWA TIMUR, KOTA SURABAYA</td>\n",
       "      <td>WIYUNG, BABATAN</td>\n",
       "      <td>BABATAN</td>\n",
       "      <td>-7.30911, 112.679653333333</td>\n",
       "    </tr>\n",
       "    <tr>\n",
       "      <th>297</th>\n",
       "      <td>JAWA TIMUR, KOTA SURABAYA</td>\n",
       "      <td>BUBUTAN, TEMBOK DUKUH</td>\n",
       "      <td>TEMBOK DUKUH IV/14 SURABAYA</td>\n",
       "      <td>-7.25406986195594, 112.724434174597</td>\n",
       "    </tr>\n",
       "  </tbody>\n",
       "</table>\n",
       "<p>298 rows × 4 columns</p>\n",
       "</div>"
      ],
      "text/plain": [
       "            Propinsi, Kab/Kota          Kecamatan, Desa/Kel  \\\n",
       "0    JAWA TIMUR, KOTA SURABAYA        KREMBANGAN, KEMAYORAN   \n",
       "1    JAWA TIMUR, KOTA SURABAYA           SEMAMPIR, PEGIRIAN   \n",
       "2    JAWA TIMUR, KOTA SURABAYA                 GUBENG, MOJO   \n",
       "3    JAWA TIMUR, KOTA SURABAYA  MULYOREJO, MANYAR SABRANGAN   \n",
       "4    JAWA TIMUR, KOTA SURABAYA            TAMBAKSARI, PLOSO   \n",
       "..                         ...                          ...   \n",
       "293  JAWA TIMUR, KOTA SURABAYA              SEMAMPIR, UJUNG   \n",
       "294  JAWA TIMUR, KOTA SURABAYA          TEGALSARI, WONOREJO   \n",
       "295  JAWA TIMUR, KOTA SURABAYA             JAMBANGAN, KARAH   \n",
       "296  JAWA TIMUR, KOTA SURABAYA              WIYUNG, BABATAN   \n",
       "297  JAWA TIMUR, KOTA SURABAYA        BUBUTAN, TEMBOK DUKUH   \n",
       "\n",
       "                          Alamat                            Koordinat  \n",
       "0          GRESIK PPI LANGGAR 16               -7.233941, 112.7268541  \n",
       "1                  WONOSARI 3/24              -7.2718232, 112.7618757  \n",
       "2            MOJOKLANGGRU LOR 80            -7.26833773, 112.76890883  \n",
       "3           MANYARSABRANGAN 4/25            -7.28757576, 112.76360124  \n",
       "4                      PLOSO 9/9              -7.2521372, 112.7660014  \n",
       "..                           ...                                  ...  \n",
       "293                HANGTUAH 7/33              -7.2232981, 112.7430831  \n",
       "294       TEMPEL SUKOREJO 5/10-A          -7.273985, 112.728838333333  \n",
       "295            BIBIS KARAH III/8              -7.3133579, 112.7124192  \n",
       "296                      BABATAN           -7.30911, 112.679653333333  \n",
       "297  TEMBOK DUKUH IV/14 SURABAYA  -7.25406986195594, 112.724434174597  \n",
       "\n",
       "[298 rows x 4 columns]"
      ]
     },
     "execution_count": 17,
     "metadata": {},
     "output_type": "execute_result"
    }
   ],
   "source": [
    "output = layak[['Propinsi, Kab/Kota', 'Kecamatan, Desa/Kel', 'Alamat', 'Koordinat']]\n",
    "output = output.append(tidak_layak[['Propinsi, Kab/Kota', 'Kecamatan, Desa/Kel', 'Alamat', 'Koordinat']], ignore_index=True)\n",
    "output"
   ]
  },
  {
   "cell_type": "code",
   "execution_count": 18,
   "id": "eacdd13f",
   "metadata": {},
   "outputs": [],
   "source": [
    "output.to_csv('koordinat_sby.csv')"
   ]
  },
  {
   "cell_type": "code",
   "execution_count": null,
   "id": "4384cf5c",
   "metadata": {},
   "outputs": [],
   "source": []
  }
 ],
 "metadata": {
  "kernelspec": {
   "display_name": "Python 3 (ipykernel)",
   "language": "python",
   "name": "python3"
  },
  "language_info": {
   "codemirror_mode": {
    "name": "ipython",
    "version": 3
   },
   "file_extension": ".py",
   "mimetype": "text/x-python",
   "name": "python",
   "nbconvert_exporter": "python",
   "pygments_lexer": "ipython3",
   "version": "3.9.12"
  }
 },
 "nbformat": 4,
 "nbformat_minor": 5
}
